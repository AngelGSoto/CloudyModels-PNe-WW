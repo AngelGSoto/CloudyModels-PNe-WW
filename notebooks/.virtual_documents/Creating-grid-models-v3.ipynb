%matplotlib inline
import numpy as np
from astropy.table import Table
import matplotlib.pyplot as plt
import os
home_dir = os.environ['HOME'] + '/'
import pyCloudy as pc


# We define a function that will manage the input files of Cloudy. 
# This allow to easily change some parameters, very usefull to do a grid.
def make_model(dir_, model_name, Teff = 100.e3, L = 37.5842, dens = 3.4771212547196626):
    full_model_name = '{0}_{1:.0f}_{2:.2f}'.format(model_name, Teff, L)
    dist = 2.31300952 #kpc (from gaia  Bailer-Jones C.A.L.) rgeo
    # these are the commands common to all the models (here only one ...)
    options = ('blackbody ' + str(Teff) + ' linear',
               'luminosity ' + str(L),
               'abundances he=-1.0 li=-20 be=-20 b=-20 c=-3.60',
                'continue n=-4.35 o=-3.95 f=-20 ne=-4.20',
                'continue na=-20 mg=-5.50 al=-20 si=-5.30 p=-20',
                'continue s=-5.70 cl=-20 ar=-6.10 k=-20 ca=-20',
                'continue sc=-20 ti=-20 v=-20 cr=-20 mn=-20',
                'continue fe=-20 co=-20 ni=-20 cu=-20 zn=-20',
               'hden ' + str(dens),
               'radius 16.6030 17.05',
               'filling factor 0.12',
               'iterate 2 to convergence max = 5',)# 16.9030 17.35 -> set save resolving power 1800, filling factor 0.1
 #age 25000 yr linear'   
    # Defining the object that will manage the input file for Cloudy
    c_input = pc.CloudyInput('{0}{1}'.format(dir_, full_model_name))
    # Filling the object with the parameters
    # Defining the ionizing SED: Effective temperature and luminosity.
    # The lumi_unit is one of the Cloudy options, like "luminosity solar", "q(H)", "ionization parameter", etc... 
    #c_input.set_BB(Teff = Teff, lumi_unit = 'q(h)', lumi_value = qH)
    # Defining the density. You may also use set_dlaw(parameters) if you have a density law defined in dense_fabden.cpp.
    #c_input.set_cste_density(dens)
    # Defining the inner radius. A second parameter would be the outer radius (matter-bounded nebula).
    #c_input.set_radius(np.log10(r_min))
    #c_input.set_abund(ab_dict = abund, nograins = True)
    c_input.set_other(options)
    #c_input.set_iterate() # (0) for no iteration, () for one iteration, (N) for N iterations.
    c_input.set_sphere() # () or (True) : sphere, or (False): open geometry.
    #c_input.set_emis_tab(emis_tab)
    c_input.set_distance(dist, 'kpc')
    c_input.print_input(to_file = True, verbose = False)


# The directory in which we will have the model
# You may want to change this to a different place so that the current directory
# will not receive all the Cloudy files.
dir_ = '../Model-PNNew/models/N2242_paperPaimbert/'#https://articles.adsabs.harvard.edu/pdf/1990A%26A...233..540T
os.mkdir(dir_)


# Define verbosity to high level (will print errors, warnings and messages)
pc.log_.level = 3


# Generic name of the models
model_name = 'model'


# tables for the values of the temperature and luminosity
T = [100e3, 110e3, 120e3, 130e3, 140e3, 150e3, 160e3, 170e3, 180e3, 190e3, 200e3]



#L2 #log L = 500 x 3.839×1033 erg/s (in solar units)
    #    L = 700
#L3 #log L = 1 000 x 3.839×1033 erg/s (in solar units)
    #        1 200
    #        1 400
#L5 #log L = 5 000 x 3.839×1033 erg/s (in solar units)
#L4 #log L = 10 000 x 3.839×1033 erg/s (in solar units)
L = []
for i in range(400, 10100, 300):
    ii = np.log10(i*3.839e33)
    L.append(ii)
print(L)


# defining the models and writing 20 input files
for Teff_ in T:
    for L_ in L:
        make_model(dir_, model_name, Teff = Teff_, L = L_, dens=2.574031267727719)



